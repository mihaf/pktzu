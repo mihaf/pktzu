{
  "cells": [
    {
      "cell_type": "markdown",
      "id": "7b168dfa-12df-43f2-a566-6a2d1ecec248",
      "metadata": {
        "tags": []
      },
      "source": [
        "# Test hoje 10 m\n",
        "Barbara Rodič, 1. letnik FT (2. stopnja)"
      ]
    },
    {
      "cell_type": "markdown",
      "id": "9e749419-c521-40ee-917f-a238a25130f9",
      "metadata": {
        "tags": []
      },
      "source": [
        "## Potrebne knjižnice in funkcije\n",
        "Vsebino spodnje celice je potrebno izvesti le enkrat. Ker ves proces poteka v spletnem brskalniku vaše naprave, lahko ta korak traja nekaj časa."
      ]
    },
    {
      "cell_type": "code",
      "execution_count": null,
      "id": "33333a1f-cef4-460f-a55f-b387d377ad1a",
      "metadata": {
        "trusted": true
      },
      "outputs": [],
      "source": [
        "import numpy as np\n",
        "import pandas as pd\n",
        "from scipy import signal\n",
        "import sys,os\n",
        "import matplotlib.pyplot as plt\n",
        "%pip install -q ipympl\n",
        "%matplotlib widget\n",
        "\n",
        "from mihaf.smoothness import log_dimensionless_jerk2 as ldlj\n",
        "\n",
        "def Raw_Filtered_Plot(t,y,fy,ldj,ldjf,measurement='Measurement',xlabel='x',ylabel='y',legend=True,filter=True):\n",
        "    '''Plot Raw and Filtered data over time'''\n",
        "    fig = plt.figure()\n",
        "    plt.plot(t,y,label=f'Neobdelani podatki: LDJ = {ldj:.0f}')\n",
        "    if filter: plt.plot(t,fy,label=f'Filtrirani podatki: LDJ = {ldjf:.0f}')\n",
        "    plt.xlabel(xlabel)\n",
        "    plt.ylabel(ylabel)\n",
        "    plt.title(measurement)\n",
        "    if legend: plt.legend(loc='upper right')\n",
        "    plt.show()\n",
        "\n",
        "def AnalyzeSignal(d,ydataNo,order=8,CNr=0.1,Start=0,Interval=0,plot=True,legend=True,filter=True):\n",
        "    '''Get Raw and Filtered data. Using Lowpass Butterworth filter with order=order and Cnr=f_crit/f_Nyquist'''\n",
        "    \n",
        "    # Get sampling frequency over the whole interval (cutting off cut first and last points)\n",
        "    cut = 0\n",
        "    t, y = [d.iloc[:,col][cut:-(cut+1)] for col in (0,ydataNo)]\n",
        "    dtlist = t.diff()[1:]\n",
        "    fslist = 1/dtlist # Sampling frequency\n",
        "    fs, sfs = np.average(fslist),np.std(fslist)\n",
        "    sampling = f', Vzorčenje: $\\\\nu$ = {fs:.0f} Hz, $\\sigma_\\\\nu =$ {sfs:.0f} Hz'\n",
        "    \n",
        "    # Filter and plot interval given in seconds\n",
        "    if Interval == 0:\n",
        "        Intervals = len(d)-int(Start*fs)\n",
        "    else:\n",
        "        Intervals = int(Interval*fs)\n",
        "    Starts = int(Start*fs)\n",
        "    t, y = [d.iloc[:,col][Starts:Starts+Intervals] for col in (0,ydataNo)]\n",
        "    b, a = signal.butter(order, CNr * (0.5*fs), fs = fs) # Lowpass Butterworth filter with order=order and Cnr=f_crit/f_Nyquist\n",
        "    fy = signal.filtfilt(b, a, y) # Apply filter forward and backward to a signal\n",
        "    ldj, ldjf = (ldlj(yy,fs,data_type='speed') for yy in (y,fy)) # Log_Dimensionless_Jerk\n",
        "\n",
        "    Raw_Filtered_Plot(t,y,fy,ldj,ldjf,\n",
        "                      measurement,\n",
        "                      xlabel=d.columns[0]+sampling,\n",
        "                      ylabel=d.columns[ydataNo],\n",
        "                      legend=legend,\n",
        "                      filter=filter)\n",
        "    return t, y, fy, ldj,ldjf"
      ]
    },
    {
      "cell_type": "markdown",
      "id": "6528e7eb-95d8-4f48-83b4-fb77753d519d",
      "metadata": {
        "tags": []
      },
      "source": [
        "## Analiza merskih podatkov aplikacije PhyPhox"
      ]
    },
    {
      "cell_type": "code",
      "execution_count": null,
      "id": "adf0681a-bc8e-4280-bd94-15351a3e4284",
      "metadata": {
        "trusted": true
      },
      "outputs": [],
      "source": [
        "measurements = ['data/hoja_jaz.csv','data/hoja_mami.csv','data/hoja_stara_mama.csv']\n",
        "print(f'Berem datoteke: \\\"{measurements}\\\"')\n",
        "jaz, mami, stmama = [pd.read_csv(measurement) for measurement in measurements]"
      ]
    },
    {
      "cell_type": "code",
      "execution_count": null,
      "id": "abfe7cc6-57c9-426f-8c0b-c9e54441437e",
      "metadata": {
        "trusted": true
      },
      "outputs": [],
      "source": [
        "# Izberi podatke in interval izrisa\n",
        "ydataNo = 1 # Zaporedna številka stolpca za analizo\n",
        "Start = 0 # Začetek prikazanega intervala [s]\n",
        "Interval = 0  # Dolžina prikazanega intervala [s]. Izberi 0 za celoten interval.\n",
        "\n",
        "# Filtriranje signala z Butterworthovim filtrom (odreže visoke frekvence):\n",
        "order = 5 # Red filtra. Lahko pustite kar 5.\n",
        "CNr = 0.1 #  Poskusite 0.01 and 0.1. Izbira je možna v intervalu (0,1). CNr predstavlja f_crit/f_Nyquist filtra. \n",
        "\n",
        "AnalyzeSignal(jaz,ydataNo,order,CNr, Start,Interval,legend=True,filter=False)"
      ]
    }
  ],
  "metadata": {
    "kernelspec": {
      "display_name": "Python 3",
      "language": "python",
      "name": "python3"
    },
    "language_info": {
      "codemirror_mode": {
        "name": "ipython",
        "version": 3
      },
      "file_extension": ".py",
      "mimetype": "text/x-python",
      "name": "python",
      "nbconvert_exporter": "python",
      "pygments_lexer": "ipython3",
      "version": "3.10.12"
    }
  },
  "nbformat": 4,
  "nbformat_minor": 5
}
