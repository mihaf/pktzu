{
  "cells": [
    {
      "cell_type": "markdown",
      "id": "c84cccb3",
      "metadata": {},
      "source": [
        "# Termini\n",
        "\n",
        "## Predavanja (3 x 3 ure)\n",
        "- ~~ponedeljek, 11. marec, 15:30~~, Zajem in analiza gibanja\n",
        "- ~~petek, 15. marec, ob 8:50~~, Uvod v JupyterLite okolje, interaktivne spletne beležnice\n",
        "- torek, 19. marec, ob 13:00, Meritve s pametno mobilno napravo (PhyPhox), analiza in predstavitev podatkov (Interaktivne spletne beležnice), Uvod v seminarje\n",
        "\n",
        "## Seminarji (15 ur)\n",
        "- sreda, 27. marec, 8:50, 4 ure, Priprave na seminarske naloge: reševanje tehničnih težav v živo, možnost ogleda/uporabe Biomehanskega laboratorija na ZF\n",
        "- četrtek, 11. april, 8:00 - 13:50, 2 uri + lab. vaje (Daša W.), Stabilometrija v biomehanskem laboratoriju + telovadnica\n",
        "- ponedeljek, 15. april, 8:50, 5 ur, predstavitve študentov\n",
        "- petek, 19. april, 8:50, 4 ure, predstavitve študentov"
      ]
    },
    {
      "cell_type": "markdown",
      "id": "7b168dfa-12df-43f2-a566-6a2d1ecec248",
      "metadata": {
        "tags": []
      },
      "source": [
        "# Merjenje pospeška in kotne hitrosti v biomehaniki: višina skoka ter test \"Vstani in pojdi\""
      ]
    },
    {
      "cell_type": "markdown",
      "id": "9e749419-c521-40ee-917f-a238a25130f9",
      "metadata": {
        "jp-MarkdownHeadingCollapsed": true,
        "tags": []
      },
      "source": [
        "## Potrebne knjižnice in funkcije\n",
        "Vsebino spodnje celice je potrebno izvesti le enkrat. Ker ves proces poteka v spletnem brskalniku vaše naprave, lahko ta korak traja nekaj časa."
      ]
    },
    {
      "cell_type": "code",
      "execution_count": null,
      "id": "33333a1f-cef4-460f-a55f-b387d377ad1a",
      "metadata": {
        "trusted": true
      },
      "outputs": [],
      "source": [
        "import numpy as np\n",
        "import pandas as pd\n",
        "from scipy import signal\n",
        "import sys,os\n",
        "import matplotlib.pyplot as plt\n",
        "%pip install -q ipympl\n",
        "%matplotlib widget\n",
        "\n",
        "def Raw_Filtered_Plot(t,y,fy,measurement='Measurement',xlabel='x',ylabel='y',legend=True,filter=True):\n",
        "    '''Plot Raw and Filtered data over time'''\n",
        "    fig = plt.figure()\n",
        "    plt.plot(t,y,label=f'Neobdelani podatki')# LDJ = {ldj:.0f}')\n",
        "    if filter: plt.plot(t,fy,label=f'Filtrirani podatki')# LDJ = {ldjf:.0f}')\n",
        "    plt.xlabel(xlabel)\n",
        "    plt.ylabel(ylabel)\n",
        "    plt.title(measurement)\n",
        "    if legend: plt.legend(loc='upper right')\n",
        "    plt.show()\n",
        "\n",
        "def AnalyzeSignal(d,ydataNo,order=8,CNr=0.1,Start=0,Interval=0,legend=True,filter=True):\n",
        "    '''Get Raw and Filtered data. Using Lowpass Butterworth filter with order=order and Cnr=f_crit/f_Nyquist'''\n",
        "    \n",
        "    # Get sampling frequency over the whole interval (cutting off cut first and last points)\n",
        "    cut = 0\n",
        "    t, y = [d.iloc[:,col][cut:-(cut+1)] for col in (0,ydataNo)]\n",
        "    dtlist = t.diff()[1:]\n",
        "    fslist = 1/dtlist # Sampling frequency\n",
        "    fs, sfs = np.average(fslist),np.std(fslist)\n",
        "    sampling = f', Vzorčenje: $\\\\nu$ = {fs:.0f} Hz, $\\sigma_\\\\nu =$ {sfs:.0f} Hz'\n",
        "    \n",
        "    # Filter and plot interval given in seconds\n",
        "    if Interval == 0:\n",
        "        Intervals = len(d)-int(Start*fs)\n",
        "    else:\n",
        "        Intervals = int(Interval*fs)\n",
        "    Starts = int(Start*fs)\n",
        "    t, y = [d.iloc[:,col][Starts:Starts+Intervals] for col in (0,ydataNo)]\n",
        "    b, a = signal.butter(order, CNr * (0.5*fs), fs = fs) # Lowpass Butterworth filter with order=order and Cnr=f_crit/f_Nyquist\n",
        "    fy = signal.filtfilt(b, a, y) # Apply filter forward and backward to a signal\n",
        "    Raw_Filtered_Plot(t,y,fy,\n",
        "                      measurement,\n",
        "                      xlabel=d.columns[0]+sampling,\n",
        "                      ylabel=d.columns[ydataNo],\n",
        "                      legend=legend,\n",
        "                      filter=filter)\n",
        "    return #t, y, fy"
      ]
    },
    {
      "cell_type": "markdown",
      "id": "aeebeb4a-88ef-432c-bd59-6b1b5b137a29",
      "metadata": {},
      "source": [
        "## Meritve\n",
        "\n",
        "### PhyPhox\n",
        "[PhyPhox](https://phyphox.org/) je odprtokodna aplikacija za mobilne naprave. Z njo lahko zajemamo podatke senzorjev, npr. vztrajnostnih merilnih enot ([angl. Inertial Measurement Unit - IMU](https://en.wikipedia.org/wiki/Inertial_measurement_unit)). IMU v naših pametnih telefonih ali tablicah bomo uporabili za zajem pospeškov (s pospeškometri) in kotnih hitrosti (z giroskopi) v biomehanskih meritvah.\n",
        "\n",
        "\n",
        "#### Spoznavanje z aplikacijo:\n",
        "> 0. Na vašo mobilno napravo namestite aplikacijo [PhyPhox](https://phyphox.org/)\n",
        "> 1. Izberite npr. *Raw Sensors/Acceleration with g* - zajemanje podatkov pospeškometrov\n",
        "> 2. Za začetek meritve pritisnite gumb \"Play\" (&#9658;) in spremljajte nastajajoče grafe\n",
        "> 3. Iz podatkov razberite orientacijo koodinatega sistema na vaši napravi (težni pospešek $g \\approx 10$ m/s$^2$ kaže navpično navzdol)\n",
        "\n",
        "![Koordinatni sistem PhyPhox](fig/coordinate_system.jpg \"Koordinatni sistem PhyPhox\")\n",
        "\n",
        "### Filtriranje signala\n",
        "\n",
        "Včasih je koristno merske podatke filtrirati. V biomehaniki pogosto želimo iz merskih podatkov izločiti nihanja signala na časovni skali, ki je manjša od najhitrejšega pričakovanega odziva telesa (odziv mišično-skeletnega sistema na zunanje dražljaje je približno 0,2 s). Na izmerjenih podatkih boste spodaj lahko preizkusili nizkopasovni [Butterworthov filter](https://en.wikipedia.org/wiki/Butterworth_filter), ki prepušča nizke frekvence signala, višje pa oslabi. Parametra filtra v spodnji kodi sta:\n",
        "- \"order\", ki predstavlja red filtra. Višji, ko je red, bolj \"ostro\" odreže visoke frekvence. Vrednost parametra lahko pustite kar na 5,\n",
        "- \"CNr\", ki je razmerje med kritično frekvenco in polovično frekvenco vzorčenja (Nykvistova frekvenca). Pri kritični frekvenci jakost filtriranega signala pade na $1/\\sqrt{2}$ nefiltrirane vrednosti. Vrednost parametra je lahko v intervalu (0,1). Poskusite npr. vrednosti CNr = 0.01 in CNr = 0.1."
      ]
    },
    {
      "cell_type": "markdown",
      "id": "3bcf3d24-aedf-4a49-aca4-51898451211c",
      "metadata": {
        "tags": []
      },
      "source": [
        "## 1. primer: Višina skoka\n",
        "Višino skoka lahko izračunamo iz časa skoka. Iz enačbe za navpični met namreč za višino skoka lahko zapišemo\n",
        "$$h = \\frac{g \\left(\\frac{t}{2}\\right)^2}{2} = \\frac{g\\: t^2}{8} \\: ,$$\n",
        "kjer je $t$ čas, ko skakalec ni v stiku s podlago (gibanje navzgor in gibanje navzdol v približku navpičnega meta trajata enako dolgo, torej vsako $\\frac{t}{2}$), $g$ pa je težni pospešek.\n",
        "\n",
        "Z mobilnim telefonom in aplikacijo Phyphox izmerite pospeške med skokom. Iz analize pospeškov poskusite izmeriti čas skoka ($t$) in iz tega višino skoka ($h$). Primerjajte rezultat s preprosto meritvijo z merskim trakom oziroma vašo oceno višine skoka.\n",
        "\n",
        "**Primer protokola meritve** z aplikacijo [PhyPhox](https://phyphox.org/) z mobilnikom in prenosnikom (lahko tudi tabličnim računalnikom ali drugim telefonom), na katerem nadziramo meritev. Dve napravi nista nujni, je pa izvajanje tako bolj kontrolirano. Uporabljeni napravi morata biti v istem omrežju (uredite si npr. mobile hotspot ali uporabite Eduroam, ki je v laboratoriju):\n",
        ">#### Pred meritvijo (v aplikaciji PhyPhox)\n",
        ">1. Izberite način zajema, npr. *Acceleration with g*.\n",
        ">2. Izberite *Allow remote access* in Phybox vam ponudi HTTP naslov, ki ga odprete v prenosniku.\n",
        ">3. Mobilno napravo namestite za meritev. Izberite primeren položaj (čim bližje težišču telesa) in orientacijo naprave.\n",
        "\n",
        ">#### Meritev (v spletnem brskalniku prenosnika, kjer odprete ponujeni HTTP naslov ali v PhyPhox aplikaciji)\n",
        ">1. Zaženite in **izvedite meritev** \n",
        ">2. Meritev lahko izvedete večkrat, da dobite občutek za primerno postavitev naprave, izvedbo ipd. Pred ponovno meritvijo lahko izberete *Clear recorded data*.\n",
        ">3. Izberite *Export data* in shranite podatke, npr. kot *CSV (Comma, decimal point)*. \n",
        "\n",
        ">#### Obdelava podatkov\n",
        "Shranjene podatke lahko uvozite, pregledate in obdelate v tej interaktivni beležnici (glej spodaj)."
      ]
    },
    {
      "cell_type": "markdown",
      "id": "6528e7eb-95d8-4f48-83b4-fb77753d519d",
      "metadata": {
        "tags": []
      },
      "source": [
        "### Analiza merskih podatkov"
      ]
    },
    {
      "cell_type": "code",
      "execution_count": null,
      "id": "adf0681a-bc8e-4280-bd94-15351a3e4284",
      "metadata": {
        "trusted": true
      },
      "outputs": [],
      "source": [
        "measurement = 'data/Raw Data_skok.csv'\n",
        "print(f'Berem datoteko: \\\"{measurement}\\\"')\n",
        "df = pd.read_csv(measurement) # za PhyPhox\n",
        "#df = pd.read_csv(measurement,sep='\\t',header=11,skiprows=[12]) # za BioWare 3.0 (pritiskovna plošča)\n",
        "df"
      ]
    },
    {
      "cell_type": "code",
      "execution_count": null,
      "id": "abfe7cc6-57c9-426f-8c0b-c9e54441437e",
      "metadata": {
        "trusted": true
      },
      "outputs": [],
      "source": [
        "# Izriši filtrirane in nefiltrirane podatke \n",
        "\n",
        "# Izberi podatke in interval izrisa\n",
        "ydataNo = 4 # Zaporedna številka stolpca za analizo\n",
        "Start = 0 # Začetek prikazanega intervala [s]\n",
        "Interval = 0  # Dolžina prikazanega intervala [s]. Izberi 0 za celoten interval.\n",
        "\n",
        "# Filtriranje signala z Butterworthovim filtrom (odreže visoke frekvence):\n",
        "order = 5 # Red filtra. Lahko pustite kar 5.\n",
        "CNr = 0.1 #  Poskusite 0.01 and 0.1. Izbira je možna v intervalu (0,1). CNr predstavlja f_crit/f_Nyquist filtra. \n",
        "\n",
        "AnalyzeSignal(df,ydataNo,order,CNr, Start,Interval,legend=True,filter=True)"
      ]
    },
    {
      "cell_type": "markdown",
      "id": "ac3d8361-58b1-4cc3-8ea5-f2f5abb0f236",
      "metadata": {},
      "source": [
        "### Izračun višine skoka"
      ]
    },
    {
      "cell_type": "markdown",
      "id": "da988d18-2faf-4ecb-8bde-2da24e546984",
      "metadata": {},
      "source": [
        "Iz analize pospeškov poskusite izmeriti čas skoka ($t$) in iz tega višino skoka po enačbi $h=g t^2/8$. Primerjajte dobljeni rezultat s preprosto meritvijo z merskim trakom oziroma vašo oceno višine skoka."
      ]
    },
    {
      "cell_type": "code",
      "execution_count": 4,
      "id": "7ffbcf97-dc2f-44d4-abc6-859acebeb20a",
      "metadata": {
        "trusted": true
      },
      "outputs": [],
      "source": [
        "to = 11.88 # Čas odskoka\n",
        "td = 12.32 # Čas doskoka"
      ]
    },
    {
      "cell_type": "code",
      "execution_count": null,
      "id": "c5d5256d-67f8-41ff-a67e-7fc8a7c00488",
      "metadata": {
        "trusted": true
      },
      "outputs": [],
      "source": [
        "t = td - to\n",
        "g = 9.81\n",
        "h = g * t**2 / 8\n",
        "print(f'Višina skoka: h = {h*100:.1f} cm')"
      ]
    },
    {
      "cell_type": "markdown",
      "id": "f964ffff-dbe7-42f2-bec0-b3c1e89057a4",
      "metadata": {},
      "source": [
        "## 2. primer: Časovno merjeni test vstani in pojdi\n",
        "Časovno merjeni test vstani in pojdi (angl. Timed Up and Go Test – TUG) je klinična izvedbena mera funkcije spodnjih udov, premičnosti in ocene tveganja za pojavnost padcev. Zaradi svoje preproste in hitre izvedljivosti, meri se le čas, ki ga preiskovanec potrebuje za izvedbo, je mera zelo široko uporabna (glejte npr. [Jakovljević, 2013](https://physio.si/wp-content/uploads/2021/07/6.-Casovno-merjeni-test_2013_No1_p38-47.pdf)). S senzorji pametnega telefona pa lahko izvedemo t.i. instrumentalizirani TUG (glejte npr. [Mellone et al., 2012](https://doi.org/10.1016/j.gaitpost.2012.02.006)).\n",
        "\n",
        "Z mobilnim telefonom in aplikacijo Phyphox izmerite kotno hitrost in/ali pospešek med Časovno merjenim testom vstani in pojdi (za protokol izvedbe testa glejte npr. [ocenjevalni list CDC](https://www.cdc.gov/steadi/pdf/TUG_test-print.pdf)). Iz analize podatkov izmerite čas izvedbe in ga primerjajte z rezultatom izmerjenim z uro. Nato poskusite razpoznati različne faze testa, npr.:\n",
        "![Faze TUG](fig/TUG_faze.png \"Faze TUG\")\n",
        "\n",
        "Ali lahko iz zajetih podatkov razberete tudi posamezne korake? Kaj bi še lahko ocenili iz pridobljenih podatkov? Glejte npr. meritve anteriorno-posteriornega pospeška iz [Mellone et al., 2012](https://doi.org/10.1016/j.gaitpost.2012.02.006):\n",
        "![Anteriorno-posteriorni pospešek pri TUG](fig/TUG_APacc.png \"Anteriorno-posteriorni pospešek pri TUG\")"
      ]
    },
    {
      "cell_type": "markdown",
      "id": "cc7ca3b5-8d75-45f2-931d-a4f877a686b8",
      "metadata": {},
      "source": [
        "# Seminarske naloge: Uporaba pametne prenosne naprave (mobilni telefon, ura, tablica) kot merilne enote v fizioterapiji\n",
        "\n",
        "## Možne teme\n",
        "- standardizirani testi (npr. primerjava TUG testa z instrumentaliziranim TUG testom z a) namenskimi sistemi za zajem in analizo gibanja, b) s pametnim telefonom)\n",
        "- stabilometrija z uporabo IMU enot v mobilnih napravah\n",
        "- analiza hoje (npr. ``Gait Smoothness'') ali drugega gibanja (npr. z LDLJ) z mobilnimi napravami\n",
        "- ...\n",
        "\n",
        "## TODO\n",
        "- pregled literature ter obstoječih namenskih sistemov in aplikacij za pametne telefone/tablice/ure. Npr. primerjava TUG testa z instrumentaliziranim TUG testom z a) namenskimi sistemi za zajem in analizo gibanja, b) s pametnim telefonom. __Vedno pregledati tudi kaj ponuja uporaba umetne inteligence (lahko je to tudi glavni del raziskave)!__\n",
        "- protokol meritve (navodila preiskovancu in/oziroma izvajalcu meritve -- postavitev in orientacija telefona, izvedba vaje ipd.)\n",
        "- analiza in predstavitev rezultatov v obliki interaktivne spletne beležnice kot je tale (.ipynb). Opozorilo: Če boste uporabljali okolje JupterLite, vam celoten proces poteka znotraj brskalnika (datoteko .ipynb lahko shranite izven brskalnika z ``Download'').\n",
        "- predstavitev testa/meritve v živo\n",
        "- oddaja končne verzije predstavitve (datoteke .ipynb in pripadajoče multimedijske vsebine; po želji lahko priložite del predstavitve tudi v PDF datoteki)\n",
        "\n",
        "Posamezno temo lahko obdela in predstavi en študent ali pa dva oziroma največ trije (pri čemer naj bo razvidno, kdo je obdelal kaj). Celotna predstavitev naj traja cca. 10 minut, oziroma cca. 15 ali 20 minut v primeru več avtorjev. Ko si izberete temo, mi za primernost teme in druga morebitna vprašanja kadarkoli [pišite](mailto:miha.fosnaric@zf.uni-lj.si) ali me poiščite na ZF.\n",
        "\n",
        "## Možnosti razširitve raziskav\n",
        "- znanstveni ali strokovni članki\n",
        "- zaključna dela\n",
        "- druge vrste sodelovanja ZF s stroko"
      ]
    }
  ],
  "metadata": {
    "kernelspec": {
      "display_name": "Python 3",
      "language": "python",
      "name": "python3"
    },
    "language_info": {
      "codemirror_mode": {
        "name": "ipython",
        "version": 3
      },
      "file_extension": ".py",
      "mimetype": "text/x-python",
      "name": "python",
      "nbconvert_exporter": "python",
      "pygments_lexer": "ipython3",
      "version": "3.10.12"
    }
  },
  "nbformat": 4,
  "nbformat_minor": 5
}
