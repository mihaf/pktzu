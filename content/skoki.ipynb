{
  "cells": [
    {
      "cell_type": "markdown",
      "id": "7b168dfa-12df-43f2-a566-6a2d1ecec248",
      "metadata": {
        "tags": []
      },
      "source": [
        "# Skoki študentke v Biomehanskem laboratoriju ZF 27. marca 2024"
      ]
    },
    {
      "cell_type": "markdown",
      "id": "9e749419-c521-40ee-917f-a238a25130f9",
      "metadata": {
        "tags": []
      },
      "source": [
        "## Potrebne knjižnice in funkcije\n",
        "Vsebino spodnje celice je potrebno izvesti le enkrat. Ker ves proces poteka v spletnem brskalniku vaše naprave, lahko ta korak traja nekaj časa."
      ]
    },
    {
      "cell_type": "code",
      "execution_count": 1,
      "id": "33333a1f-cef4-460f-a55f-b387d377ad1a",
      "metadata": {
        "trusted": true
      },
      "outputs": [],
      "source": [
        "import numpy as np\n",
        "import pandas as pd\n",
        "from scipy import signal\n",
        "import sys,os\n",
        "import matplotlib.pyplot as plt\n",
        "%pip install -q ipympl\n",
        "%matplotlib widget\n",
        "\n",
        "def Raw_Filtered_Plot(t,y,fy,measurement='Measurement',xlabel='x',ylabel='y',legend=True,filter=True):\n",
        "    '''Plot Raw and Filtered data over time'''\n",
        "    fig = plt.figure()\n",
        "    plt.plot(t,y,label=f'Neobdelani podatki')# LDJ = {ldj:.0f}')\n",
        "    if filter: plt.plot(t,fy,label=f'Filtrirani podatki')# LDJ = {ldjf:.0f}')\n",
        "    plt.xlabel(xlabel)\n",
        "    plt.ylabel(ylabel)\n",
        "    plt.title(measurement)\n",
        "    if legend: plt.legend(loc='upper right')\n",
        "    plt.show()\n",
        "\n",
        "def AnalyzeSignal(d,ydataNo,order=8,CNr=0.1,Start=0,Interval=0,plot=True,legend=True,filter=True):\n",
        "    '''Get Raw and Filtered data. Using Lowpass Butterworth filter with order=order and Cnr=f_crit/f_Nyquist'''\n",
        "    \n",
        "    # Get sampling frequency over the whole interval (cutting off cut first and last points)\n",
        "    cut = 0\n",
        "    t, y = [d.iloc[:,col][cut:-(cut+1)] for col in (0,ydataNo)]\n",
        "    dtlist = t.diff()[1:]\n",
        "    fslist = 1/dtlist # Sampling frequency\n",
        "    fs, sfs = np.average(fslist),np.std(fslist)\n",
        "    sampling = f', Vzorčenje: $\\\\nu$ = {fs:.0f} Hz, $\\sigma_\\\\nu =$ {sfs:.0f} Hz'\n",
        "    \n",
        "    # Filter and plot interval given in seconds\n",
        "    if Interval == 0:\n",
        "        Intervals = len(d)-int(Start*fs)\n",
        "    else:\n",
        "        Intervals = int(Interval*fs)\n",
        "    Starts = int(Start*fs)\n",
        "    t, y = [d.iloc[:,col][Starts:Starts+Intervals] for col in (0,ydataNo)]\n",
        "    b, a = signal.butter(order, CNr * (0.5*fs), fs = fs) # Lowpass Butterworth filter with order=order and Cnr=f_crit/f_Nyquist\n",
        "    fy = signal.filtfilt(b, a, y) # Apply filter forward and backward to a signal\n",
        "    Raw_Filtered_Plot(t,y,fy,\n",
        "                      measurement,\n",
        "                      xlabel=d.columns[0]+sampling,\n",
        "                      ylabel=d.columns[ydataNo],\n",
        "                      legend=legend,\n",
        "                      filter=filter)\n",
        "    return #t, y, fy"
      ]
    },
    {
      "cell_type": "markdown",
      "id": "6528e7eb-95d8-4f48-83b4-fb77753d519d",
      "metadata": {
        "tags": []
      },
      "source": [
        "## Analiza merskih podatkov aplikacije PhyPhox"
      ]
    },
    {
      "cell_type": "code",
      "execution_count": null,
      "id": "adf0681a-bc8e-4280-bd94-15351a3e4284",
      "metadata": {
        "trusted": true
      },
      "outputs": [],
      "source": [
        "measurement = 'data/3skoki_studentka_PhyPhox.csv'\n",
        "print(f'Berem datoteko: \\\"{measurement}\\\"')\n",
        "df1 = pd.read_csv(measurement) # za PhyPhox\n",
        "df1"
      ]
    },
    {
      "cell_type": "code",
      "execution_count": null,
      "id": "abfe7cc6-57c9-426f-8c0b-c9e54441437e",
      "metadata": {
        "trusted": true
      },
      "outputs": [],
      "source": [
        "# Izberi podatke in interval izrisa\n",
        "ydataNo = 1 # Zaporedna številka stolpca za analizo\n",
        "Start = 0 # Začetek prikazanega intervala [s]\n",
        "Interval = 0  # Dolžina prikazanega intervala [s]. Izberi 0 za celoten interval.\n",
        "\n",
        "# Filtriranje signala z Butterworthovim filtrom (odreže visoke frekvence):\n",
        "order = 5 # Red filtra. Lahko pustite kar 5.\n",
        "CNr = 0.1 #  Poskusite 0.01 and 0.1. Izbira je možna v intervalu (0,1). CNr predstavlja f_crit/f_Nyquist filtra. \n",
        "\n",
        "AnalyzeSignal(df1,ydataNo,order,CNr, Start,Interval,legend=True,filter=False)"
      ]
    },
    {
      "cell_type": "markdown",
      "id": "ac3d8361-58b1-4cc3-8ea5-f2f5abb0f236",
      "metadata": {},
      "source": [
        "### Izračun višine skoka"
      ]
    },
    {
      "cell_type": "code",
      "execution_count": 22,
      "id": "7ffbcf97-dc2f-44d4-abc6-859acebeb20a",
      "metadata": {
        "trusted": true
      },
      "outputs": [],
      "source": [
        "to = 11.88 # Čas odskoka\n",
        "td = 12.32 # Čas doskoka"
      ]
    },
    {
      "cell_type": "code",
      "execution_count": null,
      "id": "c5d5256d-67f8-41ff-a67e-7fc8a7c00488",
      "metadata": {
        "trusted": true
      },
      "outputs": [],
      "source": [
        "t = td - to\n",
        "g = 9.81\n",
        "h = g * t**2 / 8\n",
        "print(f'Višina skoka: h = {h*100:.1f} cm')"
      ]
    },
    {
      "cell_type": "markdown",
      "id": "1d7c2508-eb0f-4822-a19f-6a7fb92bee6f",
      "metadata": {
        "tags": []
      },
      "source": [
        "## Analiza merskih podatkov pritiskovne plošče"
      ]
    },
    {
      "cell_type": "code",
      "execution_count": null,
      "id": "9bfb8b76-11e9-44bd-935d-8d95a4fa2ea5",
      "metadata": {
        "trusted": true
      },
      "outputs": [],
      "source": [
        "measurement = 'data/3skoki_studentka_plosca.txt'\n",
        "print(f'Berem datoteko: \\\"{measurement}\\\"')\n",
        "df2 = pd.read_csv(measurement,sep='\\t',header=11,skiprows=[12]) # za BioWare 3.0 (pritiskovna plošča)\n",
        "df2"
      ]
    },
    {
      "cell_type": "code",
      "execution_count": null,
      "id": "4171771f-b544-4370-8515-d5ae1f97c1ae",
      "metadata": {
        "trusted": true
      },
      "outputs": [],
      "source": [
        "# Izberi podatke in interval izrisa\n",
        "ydataNo = 4 # Zaporedna številka stolpca za analizo\n",
        "Start = 0 # Začetek prikazanega intervala [s]\n",
        "Interval = 0  # Dolžina prikazanega intervala [s]. Izberi 0 za celoten interval.\n",
        "\n",
        "# Filtriranje signala z Butterworthovim filtrom (odreže visoke frekvence):\n",
        "order = 5 # Red filtra. Lahko pustite kar 5.\n",
        "CNr = 0.1 #  Poskusite 0.01 and 0.1. Izbira je možna v intervalu (0,1). CNr predstavlja f_crit/f_Nyquist filtra. \n",
        "\n",
        "AnalyzeSignal(df2,ydataNo,order,CNr, Start,Interval,legend=True,filter=False)"
      ]
    },
    {
      "cell_type": "markdown",
      "id": "5c653c5d-9a15-47e4-a736-361c587f89ab",
      "metadata": {},
      "source": [
        "### Izračun višine skoka"
      ]
    },
    {
      "cell_type": "code",
      "execution_count": 26,
      "id": "1d008dac-d5f2-4821-b325-604407071571",
      "metadata": {
        "trusted": true
      },
      "outputs": [],
      "source": [
        "to = 11.88 # Čas odskoka\n",
        "td = 12.32 # Čas doskoka"
      ]
    },
    {
      "cell_type": "code",
      "execution_count": null,
      "id": "a445cfa9-caf3-4f17-94ac-3944752129c1",
      "metadata": {
        "trusted": true
      },
      "outputs": [],
      "source": [
        "t = td - to\n",
        "g = 9.81\n",
        "h = g * t**2 / 8\n",
        "print(f'Višina skoka: h = {h*100:.1f} cm')"
      ]
    }
  ],
  "metadata": {
    "kernelspec": {
      "display_name": "Python (Pyodide)",
      "language": "python",
      "name": "python"
    },
    "language_info": {
      "codemirror_mode": {
        "name": "python",
        "version": 3
      },
      "file_extension": ".py",
      "mimetype": "text/x-python",
      "name": "python",
      "nbconvert_exporter": "python",
      "pygments_lexer": "ipython3",
      "version": "3.8"
    }
  },
  "nbformat": 4,
  "nbformat_minor": 5
}
